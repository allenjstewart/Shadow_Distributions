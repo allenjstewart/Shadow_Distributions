{
 "cells": [
  {
   "cell_type": "raw",
   "metadata": {},
   "source": [
    "<script>\n",
    "  function code_toggle() {\n",
    "    if (code_shown){\n",
    "      $('div.input').hide('500');\n",
    "      $('#toggleButton').val('Show Code')\n",
    "    } else {\n",
    "      $('div.input').show('500');\n",
    "      $('#toggleButton').val('Hide Code')\n",
    "    }\n",
    "    code_shown = !code_shown\n",
    "  }\n",
    "\n",
    "  $( document ).ready(function(){\n",
    "    code_shown=false;\n",
    "    $('div.input').hide()\n",
    "  });\n",
    "</script>\n",
    "<form action=\"javascript:code_toggle()\"><input type=\"submit\" id=\"toggleButton\" value=\"Show Code\"></form>"
   ]
  },
  {
   "cell_type": "markdown",
   "metadata": {
    "slideshow": {
     "slide_type": "-"
    }
   },
   "source": [
    "# I. Knots and Smoothing\n",
    "***\n",
    "\n",
    "## What is a knot?\n",
    "\n",
    "A knot is a closed loop in 3-space. <insert photo of 3d knot>\n",
    "\n",
    "![alt text](https://upload.wikimedia.org/wikipedia/commons/f/fc/Trefoil_Knot.gif \"Trefoil knot 3D\")\n",
    "\n",
    "The knot diagram for a knot is a projection of a knot onto a plane. \n",
    "\n",
    "![alt text](https://upload.wikimedia.org/wikipedia/commons/thumb/5/5c/Trefoil_knot_left.svg/250px-Trefoil_knot_left.svg.png \"Trefoil knot projection\")\n",
    "    \n",
    "## What is a shadow?\n",
    "\n",
    "A shadow is a projection of a given knot that shows no crossing information. \n",
    "\n",
    "![alt text](https://github.com/allenjstewart/Shadow_Distributions/blob/master/trefoil.png?raw=true \"Trefoil shadow\")\n",
    "    \n",
    "\n",
    "## What is smoothing?\n",
    "\n",
    "To smooth a crossng is to replace a crossing in a link shadow in one of the two ways shown below: \n",
    "![alt text](https://github.com/allenjstewart/Shadow_Distributions/blob/master/smoothing.JPG?raw=true \"Smoothing a crossing\")<insert smoothing a crossing photo>"
   ]
  },
  {
   "cell_type": "markdown",
   "metadata": {},
   "source": [
    "# II. Discrete Distribution\n",
    "***\n",
    "## Smoothing Process for a trefoil\n",
    "\n",
    "For one trefoil with $3$ crossings, there are $2^3=8$ outcomes of the smoothing process ranging from $1$ component to $3$ components:\n",
    "\n",
    "<img src=\"https://github.com/allenjstewart/Shadow_Distributions/blob/master/outcomes.png?raw=true\" width=\"750\" height=\"650\" />\n",
    "\n",
    "\n",
    "From this, we can get a histogram of the outcomes of the smoothing process. "
   ]
  },
  {
   "cell_type": "code",
   "execution_count": 11,
   "metadata": {},
   "outputs": [
    {
     "data": {
      "image/png": "[encoded data removed]",
      "text/plain": [
       "<matplotlib.figure.Figure at 0x214b14a68d0>"
      ]
     },
     "metadata": {},
     "output_type": "display_data"
    }
   ],
   "source": [
    "import matplotlib.pyplot as plt; plt.rcdefaults()\n",
    "import numpy as np\n",
    "import matplotlib.pyplot as plt\n",
    " \n",
    "outcomes = ('1', '2', '3')\n",
    "y_pos = np.arange(len(outcomes))\n",
    "dist = [3,4,1]\n",
    " \n",
    "plt.bar(y_pos, dist, align='center', alpha=0.5)\n",
    "plt.xticks(y_pos, outcomes)\n",
    "plt.xlabel('Number of components')\n",
    "plt.title('Number of outcomes')\n",
    " \n",
    "plt.show()"
   ]
  },
  {
   "cell_type": "markdown",
   "metadata": {},
   "source": [
    "If we divide by $2^3$, or $2$ to the number of crossings, we get a distribution. <maybe this is wrong wording>\n",
    "   \n",
    "\n",
    "For one trefoil we have the following probabilities. "
   ]
  },
  {
   "cell_type": "code",
   "execution_count": 16,
   "metadata": {},
   "outputs": [
    {
     "data": {
      "image/png": "[encoded data removed]",
      "text/plain": [
       "<matplotlib.figure.Figure at 0x214b31832e8>"
      ]
     },
     "metadata": {},
     "output_type": "display_data"
    }
   ],
   "source": [
    "outcomes = ('1', '2', '3')\n",
    "y_pos = np.arange(len(outcomes))\n",
    "dist = [3/8,4/8,1/8]\n",
    " \n",
    "plt.bar(y_pos, dist, align='center', alpha=0.5)\n",
    "plt.xticks(y_pos, outcomes)\n",
    "plt.xlabel('Number of components')\n",
    "plt.title('Probability')\n",
    "plt.ylim(ymax=1)\n",
    " \n",
    "plt.show()"
   ]
  },
  {
   "cell_type": "markdown",
   "metadata": {},
   "source": [
    "\n",
    "Goal: Find the distribution for the union of $n$ shadows\n",
    "\n",
    "\n",
    "\n",
    "## What is a union?\n",
    "\n",
    "A union is created from a number of shadows where the shadows have no intersections. Below is the union of two shadows. \n",
    "\n",
    "![alt text](https://github.com/allenjstewart/Shadow_Distributions/blob/master/union.png?raw=true \"Union of two trefoils\")\n",
    "\n"
   ]
  },
  {
   "cell_type": "markdown",
   "metadata": {},
   "source": [
    "Using just the histogram of one trefoil, we can find the histogram of the union of $n$ trefoils."
   ]
  },
  {
   "cell_type": "raw",
   "metadata": {},
   "source": [
    "<matlab_to_python code here>"
   ]
  },
  {
   "cell_type": "markdown",
   "metadata": {},
   "source": [
    "Bigger goal: Find the distribution for the union of $n$ knots for any given knot\n",
    "\n",
    "For this, we must know the distribution of a single knot. HOPEFULLY: Here is some mathematica code which allows us to find the distribution of a single knot for "
   ]
  },
  {
   "cell_type": "markdown",
   "metadata": {},
   "source": [
    "# IV. Connected Sums\n",
    "***\n",
    "## What is composition?\n",
    "\n",
    "A composition of diagrams can be created from multiple shadows by removing a small arc from each, then connecting the four endpoints by two new arcs.\n",
    "\n",
    "![alt text](https://github.com/allenjstewart/Shadow_Distributions/blob/master/composition.png?raw=true \"Composition of two trefoils\")"
   ]
  },
  {
   "cell_type": "markdown",
   "metadata": {},
   "source": [
    "# V. Normalize\n",
    "***"
   ]
  },
  {
   "cell_type": "markdown",
   "metadata": {},
   "source": [
    "# VI. Theorems & Conjectures\n",
    "\n",
    "***\n",
    "## Conjecture. The minimal distribution for a shadow of any given knot is an invariant. \n",
    "\n",
    "##  "
   ]
  },
  {
   "cell_type": "markdown",
   "metadata": {},
   "source": [
    "# VII. A look ahead\n",
    "***"
   ]
  },
  {
   "cell_type": "markdown",
   "metadata": {},
   "source": [
    "# The End"
   ]
  },
  {
   "cell_type": "markdown",
   "metadata": {},
   "source": [
    "# VII.        Knot the end....also knot an invariant\n",
    "***"
   ]
  },
  {
   "cell_type": "raw",
   "metadata": {},
   "source": [
    "<script>\n",
    "  $(document).ready(function(){\n",
    "    $('div.prompt').hide();\n",
    "    $('div.back-to-top').hide();\n",
    "    $('nav#menubar').hide();\n",
    "    $('.breadcrumb').hide();\n",
    "    $('.hidden-print').hide();\n",
    "  });\n",
    "</script>\n",
    "\n",
    "<footer id=\"attribution\" style=\"float:right; color:#999; background:#fff;\">\n",
    "Created with Jupyter, delivered by Fastly, rendered by Rackspace.\n",
    "</footer>"
   ]
  }
 ],
 "metadata": {
  "kernelspec": {
   "display_name": "Python 3",
   "language": "python",
   "name": "python3"
  },
  "language_info": {
   "codemirror_mode": {
    "name": "ipython",
    "version": 3
   },
   "file_extension": ".py",
   "mimetype": "text/x-python",
   "name": "python",
   "nbconvert_exporter": "python",
   "pygments_lexer": "ipython3",
   "version": "3.6.3"
  }
 },
 "nbformat": 4,
 "nbformat_minor": 2
}
