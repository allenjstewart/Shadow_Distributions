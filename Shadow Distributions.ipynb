{
 "cells": [
  {
   "cell_type": "markdown",
   "metadata": {
    "slideshow": {
     "slide_type": "slide"
    }
   },
   "source": [
    "# Shadow Distributions "
   ]
  },
  {
   "cell_type": "markdown",
   "metadata": {
    "slideshow": {
     "slide_type": "fragment"
    }
   },
   "source": [
    "Heather Bergey"
   ]
  },
  {
   "cell_type": "markdown",
   "metadata": {
    "slideshow": {
     "slide_type": "slide"
    }
   },
   "source": [
    "# I. Knots and Smoothing\n",
    "***"
   ]
  },
  {
   "cell_type": "markdown",
   "metadata": {
    "slideshow": {
     "slide_type": "subslide"
    }
   },
   "source": [
    "## What is a knot?\n",
    "\n",
    "A knot is a closed loop in 3-space\n",
    "\n",
    "![alt text](https://upload.wikimedia.org/wikipedia/commons/f/fc/Trefoil_Knot.gif \"Trefoil knot 3D\")"
   ]
  },
  {
   "cell_type": "markdown",
   "metadata": {
    "slideshow": {
     "slide_type": "subslide"
    }
   },
   "source": [
    "## A Knot diagram\n",
    "\n",
    "...is a projection of a knot onto a plane\n",
    "\n",
    "![alt text](https://upload.wikimedia.org/wikipedia/commons/thumb/5/5c/Trefoil_knot_left.svg/250px-Trefoil_knot_left.svg.png \"Trefoil knot projection\")"
   ]
  },
  {
   "cell_type": "markdown",
   "metadata": {
    "slideshow": {
     "slide_type": "subslide"
    }
   },
   "source": [
    "## Shadow of a knot\n",
    "\n",
    "A shadow is a projection of a given knot that shows no crossing information \n",
    "\n",
    "![alt text](https://github.com/allenjstewart/Shadow_Distributions/blob/master/trefoil.png?raw=true \"Trefoil shadow\")"
   ]
  },
  {
   "cell_type": "markdown",
   "metadata": {
    "slideshow": {
     "slide_type": "subslide"
    }
   },
   "source": [
    "### Side note on uniqueness of shadows\n",
    "\n",
    "![alt text](https://upload.wikimedia.org/wikipedia/commons/thumb/a/a8/Unknots.svg/364px-Unknots.svg.png?raw=true \"Unknot\")\n",
    "\n"
   ]
  },
  {
   "cell_type": "markdown",
   "metadata": {
    "slideshow": {
     "slide_type": "slide"
    }
   },
   "source": [
    "# II. Smoothing\n",
    "***"
   ]
  },
  {
   "cell_type": "markdown",
   "metadata": {
    "slideshow": {
     "slide_type": "subslide"
    }
   },
   "source": [
    "## Smoothing\n",
    "\n",
    "To smooth a crossng is to replace a crossing in a shadow by one of the two ways shown below: \n",
    "![alt text](https://github.com/allenjstewart/Shadow_Distributions/blob/master/smoothing.JPG?raw=true \"Smoothing a crossing\")<insert smoothing a crossing photo>"
   ]
  },
  {
   "cell_type": "markdown",
   "metadata": {
    "slideshow": {
     "slide_type": "subslide"
    }
   },
   "source": [
    "## Smoothing Process for a trefoil\n",
    "\n",
    "For a shadow of a knot with $3$ crossings, there are $2^3=8$ outcomes of the smoothing process ranging from $1$ to $3$ components. In general, for $n$ crossings, there are $2^n$ outcomes.\n",
    "\n",
    "<img src=\"https://github.com/allenjstewart/Shadow_Distributions/blob/master/outcomes.png?raw=true\" width=\"550\" height=\"350\" />\n",
    "\n",
    "\n",
    "We can then create a histogram of the outcomes of the smoothing process. "
   ]
  },
  {
   "cell_type": "code",
   "execution_count": 23,
   "metadata": {
    "scrolled": true,
    "slideshow": {
     "slide_type": "subslide"
    }
   },
   "outputs": [
    {
     "data": {
      "image/png": "[encoded data removed]",
      "text/plain": [
       "<matplotlib.figure.Figure at 0x2320ece64e0>"
      ]
     },
     "metadata": {},
     "output_type": "display_data"
    }
   ],
   "source": [
    "import matplotlib.pyplot as plt; plt.rcdefaults()\n",
    "import numpy as np\n",
    "import matplotlib.pyplot as plt\n",
    " \n",
    "outcomes = ('1', '2', '3')\n",
    "y_pos = np.arange(len(outcomes))\n",
    "dist = [3,4,1]\n",
    " \n",
    "plt.bar(y_pos, dist, align='center', alpha=0.5)\n",
    "plt.xticks(y_pos, outcomes)\n",
    "plt.xlabel('Number of components')\n",
    "plt.title('Number of outcomes')\n",
    "\n",
    "plt.show()"
   ]
  },
  {
   "cell_type": "markdown",
   "metadata": {
    "slideshow": {
     "slide_type": "subslide"
    }
   },
   "source": [
    "Dividing by the number of outcomes <8> gives the probability of winding up with $x$ components."
   ]
  },
  {
   "cell_type": "code",
   "execution_count": 26,
   "metadata": {
    "slideshow": {
     "slide_type": "subslide"
    }
   },
   "outputs": [],
   "source": [
    "%%capture\n",
    "outcomes = ('1', '2', '3')\n",
    "y_pos = np.arange(len(outcomes))\n",
    "dist = [3/8,4/8,1/8]\n",
    " \n",
    "plt.bar(y_pos, dist, align='center', alpha=0.5)\n",
    "plt.xticks(y_pos, outcomes)\n",
    "plt.xlabel('Number of components')\n",
    "plt.title('Probability')\n",
    "plt.ylim(ymax=1)"
   ]
  },
  {
   "cell_type": "code",
   "execution_count": 27,
   "metadata": {
    "slideshow": {
     "slide_type": "subslide"
    }
   },
   "outputs": [
    {
     "data": {
      "image/png": "[encoded data removed]",
      "text/plain": [
       "<matplotlib.figure.Figure at 0x2320ef8d4a8>"
      ]
     },
     "metadata": {},
     "output_type": "display_data"
    }
   ],
   "source": [
    "plt.show()"
   ]
  },
  {
   "cell_type": "markdown",
   "metadata": {
    "slideshow": {
     "slide_type": "subslide"
    }
   },
   "source": [
    "### Goal: Find the probabilities for the union of $n$ shadows"
   ]
  },
  {
   "cell_type": "markdown",
   "metadata": {
    "slideshow": {
     "slide_type": "slide"
    }
   },
   "source": [
    "# III. Unions\n",
    "***"
   ]
  },
  {
   "cell_type": "markdown",
   "metadata": {
    "slideshow": {
     "slide_type": "subslide"
    }
   },
   "source": [
    "## What is a union?\n",
    "\n",
    "A union is created from a number of shadows where the shadows have no intersections. Below is the union of two shadows. \n",
    "\n",
    "![alt text](https://github.com/allenjstewart/Shadow_Distributions/blob/master/union.png?raw=true \"Union of two trefoils\")\n",
    "\n",
    "\n",
    "Using just the probabilities for one trefoil, we can find the probabilities for the union of $n$ trefoils."
   ]
  },
  {
   "cell_type": "code",
   "execution_count": 34,
   "metadata": {
    "slideshow": {
     "slide_type": "subslide"
    }
   },
   "outputs": [],
   "source": [
    "%%capture\n",
    "import numpy as np\n",
    "import matplotlib.pyplot as plt; plt.rcdefaults()\n",
    "import matplotlib.pyplot as plt\n",
    "\n",
    "iniDist = np.array([3/8,4/8,1/8])          #Enter probabilities for a given shadow\n",
    "nCrossings = 3                             #Enter number of crossings\n",
    "nKnots = 2                                 #Enter number of shadows\n",
    "prevKnots = iniDist\n",
    "bigKnots = iniDist\n",
    "\n",
    "\n",
    "for a in range(0, nKnots):\n",
    "    if a == 1:\n",
    "        bigKnots = iniDist\n",
    "    elif a > 1:\n",
    "        prevKnots = bigKnots\n",
    "    \n",
    "    bigKnots = np.concatenate((np.zeros(len(prevKnots)),np.zeros(len(iniDist))),axis=0)\n",
    "    for k in range(0,nKnots*len(iniDist)):\n",
    "        for n in range(0,len(prevKnots)):\n",
    "            for m in range(0,len(iniDist)):\n",
    "                if n + m == k:\n",
    "                    bigKnots[k+1] = bigKnots[k+1] + prevKnots[n]*iniDist[m]\n",
    "\n",
    "# Indexing outcomes\n",
    "outcomes = np.zeros(nKnots*nCrossings)\n",
    "for i in range(0,nKnots*nCrossings):\n",
    "    outcomes[i] = i+1\n",
    "    \n",
    "# Distribution    \n",
    "y_pos = np.arange(len(outcomes))\n",
    "dist = list(bigKnots)\n",
    "\n",
    "\n",
    "# Mean    \n",
    "total = np.sum(bigKnots)    \n",
    "mean = np.dot(outcomes,bigKnots)/total\n",
    "\n",
    "\n",
    "plt.bar(y_pos, dist, align='center', alpha=0.5, color='y')\n",
    "plt.axvline(x = mean - 1, color='0')            #-1 because indexing\n",
    "plt.legend(['mean'])\n",
    "plt.xticks(y_pos, outcomes)\n",
    "plt.xlabel('Number of components')\n",
    "plt.title('Probability')"
   ]
  },
  {
   "cell_type": "code",
   "execution_count": 35,
   "metadata": {
    "slideshow": {
     "slide_type": "subslide"
    }
   },
   "outputs": [
    {
     "name": "stdout",
     "output_type": "stream",
     "text": [
      "Probabilities for 2 shadows\n",
      "[0.0, 0.140625, 0.375, 0.34375, 0.125, 0.015625]\n",
      "Mean for discrete distribution of 2 shadows: 3.5.\n"
     ]
    },
    {
     "data": {
      "image/png": "[encoded data removed]",
      "text/plain": [
       "<matplotlib.figure.Figure at 0x2320ffd7748>"
      ]
     },
     "metadata": {},
     "output_type": "display_data"
    }
   ],
   "source": [
    "print('Probabilities for ' + repr(nKnots) + ' shadows')\n",
    "print(list(bigKnots))\n",
    "print('Mean for discrete distribution of ' + repr(nKnots) + ' shadows: ' + repr(mean) +'.')\n",
    "\n",
    "plt.show()"
   ]
  },
  {
   "cell_type": "markdown",
   "metadata": {
    "slideshow": {
     "slide_type": "slide"
    }
   },
   "source": [
    "# V. The mean $\\mu$\n",
    "<Then same chart but mean/nShadows>"
   ]
  },
  {
   "cell_type": "markdown",
   "metadata": {
    "slideshow": {
     "slide_type": "subslide"
    }
   },
   "source": [
    "|$Number$ $of$ $Knots$ |     $\\mu$     | \n",
    "|:---------------:|:-------------:|\n",
    "| 1               | $1.75$        |\n",
    "| 2               | $3.5$         |             \n",
    "| 3               | $5.25$        |             \n",
    "| 4               | $7$           |             \n",
    "| ...             | ...           |          \n",
    "| $\\infty$        | $\\infty$      |\n",
    "\n",
    "<We see that $\\mu$ goes to $\\infty$ as number of knots increases to infinity NOT SURPRISING>"
   ]
  },
  {
   "cell_type": "markdown",
   "metadata": {
    "slideshow": {
     "slide_type": "subslide"
    }
   },
   "source": [
    "|$Number$ $of$ $Knots$ |     $\\frac{\\mu}{nKnots}$     | \n",
    "|:---------------:|:-------------:|\n",
    "| 1               | $1.75$        |\n",
    "| 2               | $1.75$        |             \n",
    "| 3               | $1.75$        |             \n",
    "| 4               | $1.75$        |             \n",
    "| ...             | ...           |          \n",
    "| $\\infty$        | $1.75$        |\n",
    "\n",
    "<We see that $\\mu$ goes to $\\infty$ as number of knots increases to infinity NOT SURPRISING>"
   ]
  },
  {
   "cell_type": "markdown",
   "metadata": {
    "slideshow": {
     "slide_type": "subslide"
    }
   },
   "source": [
    "### Bigger goal: Find the distribution for the union of $n$ shadows for any given shadow\n",
    "\n",
    "For this, we must know the distribution of a shadow for a single knot. For the trefoil, it was simple enough to solve each case but for more complicated knots......<if you have a knot with 5 crossings, there are now 2^5 possible outcomes so this grows pretty fast as knots get more complicated>"
   ]
  },
  {
   "cell_type": "markdown",
   "metadata": {
    "slideshow": {
     "slide_type": "slide"
    }
   },
   "source": [
    "# IV. Finding Distributions for the shadow of any given knot \n",
    "***"
   ]
  },
  {
   "cell_type": "markdown",
   "metadata": {
    "slideshow": {
     "slide_type": "subslide"
    }
   },
   "source": [
    "## What does graph theory have to do with it?\n",
    "\n",
    "We can construct the medial graph of a knot introduced by Peter Tait in 1877 and its dual. We input information into code to find the histogram (and can easily find then the probability distribution.\n",
    "\n",
    "INSERT PICTURE SHOW EDGES/DUAL GRAPHS FOR FIGURE 8 KNOT"
   ]
  },
  {
   "cell_type": "code",
   "execution_count": 12,
   "metadata": {
    "slideshow": {
     "slide_type": "subslide"
    }
   },
   "outputs": [
    {
     "name": "stdout",
     "output_type": "stream",
     "text": [
      "Histogram\n",
      "[5. 8. 3.]\n"
     ]
    }
   ],
   "source": [
    "import numpy as np\n",
    "\n",
    "#Figure 8\n",
    "vertices = 3;      \n",
    "dualVertices = 3;     \n",
    "edges = np.array([[0,1],[1, 2],[2,0],[0,1]]);      \n",
    "dualEdges = np.array([[3,4],[3,5],[3,5],[4,5]]);\n",
    "\n",
    "\n",
    "#Figure 8 edges: [0,1],[1, 2],[2,0],[0,1]\n",
    "#Figure 8 dualEdges: [3,4],[3,5],[3,5],[4,5]\n",
    "\n",
    "\n",
    "#KNOTS WITH 2 DUALVERTICES\n",
    "#__________________________\n",
    "#Trefoil edges: [0,1],[1, 2],[2,0]\n",
    "#Trefoil dualEdges: [3,4],[3,4],[3,4]\n",
    "\n",
    "#Cinquefoil edges: [0,1],[1, 2],[2,3],[3,4],[4,0]\n",
    "#Cinquefoil dualEdges: [5,6],[5,6],[5,6],[5,6],[5,6]\n",
    "\n",
    "#Septafoil edges: [0,1],[1, 2],[2,3],[3,4],[4,5],[5,6],[6,0]\n",
    "#Septafoil dualEdges: [7,8],[7,8],[7,8],[7,8],[7,8],[7,8],[7,8]\n",
    "\n",
    "#\"Ninefoil\" edges: [0,1],[1, 2],[2,3],[3,4],[4,5],[5,6],[6,7],[7,8],[8,0]\n",
    "#\"Ninefoil\" dualEdges: [9,10],[9,10],[9,10],[9,10],[9,10],[9,10],[9,10],[9,10],[9,10]\n",
    "\n",
    "\n",
    "dist = np.zeros(np.maximum(vertices, dualVertices));\n",
    "B = np.zeros(len(edges));\n",
    "outcome = 0;\n",
    "for j  in range(0, 2**len(B)):\n",
    "\tB = np.zeros(len(edges));\n",
    "\tfor k in range(0, len(np.fromstring(' '.join(np.binary_repr(j)), dtype=int, sep=' '))):\n",
    "\t\tB[k] = np.fromstring(' '.join(np.binary_repr(j)), dtype=int, sep=' ')[k];\n",
    "\tA = np.identity(vertices + dualVertices);\n",
    "\tfor i in range(0, len(edges)):\n",
    "\t\tif(B[i] == 1): \n",
    "\t\t\tA[edges[i,0], edges[i,1]] = A[edges[i,0], edges[i,1]] + 1;  \n",
    "\t\telse:\n",
    "\t\t\tA[dualEdges[i,0], dualEdges[i,1]] = A[dualEdges[i,0], dualEdges[i,1]] + 1;\n",
    "\t\t\t\n",
    "\t\tA[edges[i,1], edges[i,0]] = A[edges[i,0], edges[i,1]];\n",
    "\t\tA[dualEdges[i,1], dualEdges[i,0]] = A[dualEdges[i,0], dualEdges[i,1]];\n",
    "\tAPower = np.heaviside(np.linalg.matrix_power(A, vertices),0);\n",
    "\toutcome = np.linalg.matrix_rank(APower) - 1;\n",
    "\tif(outcome > len(dist)): \n",
    "\t\tnp.concatenate(dist, [0],axis=0)\n",
    "\tfor i in range(1,len(dist)+1):\n",
    "\t\tif(outcome == i):\n",
    "\t\t\tdist[i-1] = dist[i-1] + 1;\n",
    "            \n",
    "print('Histogram')\n",
    "print(dist)"
   ]
  },
  {
   "cell_type": "markdown",
   "metadata": {
    "slideshow": {
     "slide_type": "subslide"
    }
   },
   "source": [
    "\n",
    "## Multinomial Distribution\n",
    "\n",
    "The multinomial distribution is one which we assign our probabilities as the coefficients of terms in a multinomial. For our problem, we can then raise this multinomial to the number of knots. The coefficients then tell us the number of outcomes for a certain number of components.\n",
    "#### Example\n",
    "Recall that the probabilities for a trefoil knot were $1,2,$ and $3$ components for probabilities of $\\frac{3}{8},\\frac{4}{8},$ and $\\frac{1}{8}$ respectively. \n",
    "\n",
    "If we let $x^i$ represent $i$ components, we get the multinomial\n",
    "\n",
    "\\begin{align}\n",
    "\\frac{3}{8}x^1 + \\frac{4}{8}x^2 + \\frac{1}{8}x^3\n",
    "\\end{align}\n",
    "\n",
    "Then the coefficients of $(\\frac{3}{8}x^1 + \\frac{4}{8}x^2 + \\frac{1}{8}x^3)^n$ expanded gives us the number of outcomes for $i$ components.\n",
    "\n",
    "If $n=2$, we get the multinomial $\\frac{0}{64}x^1+\\frac{9}{64}x^2+\\frac{24}{64}x^3+\\frac{22}{64}x^4+\\frac{8}{64}x^5+\\frac{1}{64}x^6$. \n",
    "\n",
    "Recall probabilities for the union of $2$ trefoil shadows were $1, 2, 3, 4, 5,$ and $6$ components for probabilities of $\\frac{0}{64},\\frac{9}{64},\\frac{24}{64},\\frac{22}{64},\\frac{8}{64},\\frac{1}{64}$ respectively. "
   ]
  },
  {
   "cell_type": "markdown",
   "metadata": {
    "slideshow": {
     "slide_type": "slide"
    }
   },
   "source": [
    "# VI. Linear Connected Sums\n",
    "***"
   ]
  },
  {
   "cell_type": "markdown",
   "metadata": {
    "slideshow": {
     "slide_type": "subslide"
    }
   },
   "source": [
    "## What is composition?\n",
    "\n",
    "A composition of diagrams can be created from multiple shadows by removing a small arc from each, then connecting the four endpoints by two new arcs.\n",
    "\n",
    "![alt text](https://github.com/allenjstewart/Shadow_Distributions/blob/master/composition.png?raw=true \"Composition of two trefoils\")"
   ]
  },
  {
   "cell_type": "markdown",
   "metadata": {
    "slideshow": {
     "slide_type": "subslide"
    }
   },
   "source": [
    "## What is a linear connected sum?\n",
    "\n",
    "A connected sum is the composition of multiple shadows in a linear way. \n",
    "\n",
    "![alt text](https://github.com/allenjstewart/Shadow_Distributions/blob/master/composition_multiple_trefoils.JPG?raw=true \"Linear composition of multiple shadows\")"
   ]
  },
  {
   "cell_type": "markdown",
   "metadata": {
    "slideshow": {
     "slide_type": "subslide"
    }
   },
   "source": [
    "\n",
    "## Extenstion of the Multinomial Distribution\n",
    "\n",
    "<The multinomial distribution has an easy extension from unions to compositions.>For linear connected sums we simply take the multinomial from the union of $n$ number of shadows and divide by $x^{n-1}$. <this is because you are merging one region with another region>\n",
    "    \n",
    "\\begin{align}\n",
    "    \\frac{(\\frac{3}{8}x^1 + \\frac{4}{8}x^2 + \\frac{1}{8}x^3)^n}{x^{n-1}}\n",
    "\\end{align}\n",
    "\n",
    "\n",
    "For $i$ in $x^i$ representing the number of components, this resulting multinomial's coefficients gives us the probabilities for $i$ number of components. "
   ]
  },
  {
   "cell_type": "markdown",
   "metadata": {
    "slideshow": {
     "slide_type": "slide"
    }
   },
   "source": [
    "# V. Theorems & Conjectures\n",
    "\n",
    "***"
   ]
  },
  {
   "cell_type": "markdown",
   "metadata": {
    "slideshow": {
     "slide_type": "fragment"
    }
   },
   "source": [
    "### Torus Knots Mean Theorem. The mean $\\mu$ for a torus knot with $n$ crossings is $2^{1-n}+\\frac{n}{2}$. \n",
    "\n"
   ]
  },
  {
   "cell_type": "markdown",
   "metadata": {
    "slideshow": {
     "slide_type": "subslide"
    }
   },
   "source": [
    "### Conjecture. Given a distribution for a shadow of a knot, we say that $D_1 \\leq D_2$ if each for each coefficient $p$ in the respective multinomial distribution, it is true that $p_1 \\leq p_2$."
   ]
  },
  {
   "cell_type": "markdown",
   "metadata": {
    "slideshow": {
     "slide_type": "fragment"
    }
   },
   "source": [
    "\n",
    "### Conjecture. The minimal distribution for a shadow of any given knot gives a mean $\\mu$ which is an invariant.\n",
    "\n",
    "<recall that knots do not have unique shadows>"
   ]
  },
  {
   "cell_type": "markdown",
   "metadata": {
    "slideshow": {
     "slide_type": "slide"
    }
   },
   "source": [
    "# VI. A look ahead\n",
    "***"
   ]
  },
  {
   "cell_type": "markdown",
   "metadata": {
    "slideshow": {
     "slide_type": "subslide"
    }
   },
   "source": [
    "### Nonlinear Connected Sums"
   ]
  },
  {
   "cell_type": "markdown",
   "metadata": {
    "slideshow": {
     "slide_type": "fragment"
    }
   },
   "source": [
    "### Multinomial Distribution Investigation"
   ]
  },
  {
   "cell_type": "markdown",
   "metadata": {
    "slideshow": {
     "slide_type": "fragment"
    }
   },
   "source": [
    "### Patterns in the distributions for families of knots"
   ]
  },
  {
   "cell_type": "markdown",
   "metadata": {
    "slideshow": {
     "slide_type": "fragment"
    }
   },
   "source": [
    "### $\\mu$ and $\\sigma^2$ <how else could these relate to the knot?>"
   ]
  },
  {
   "cell_type": "markdown",
   "metadata": {
    "slideshow": {
     "slide_type": "fragment"
    }
   },
   "source": [
    "### Meaningful way to normalize"
   ]
  },
  {
   "cell_type": "markdown",
   "metadata": {
    "slideshow": {
     "slide_type": "slide"
    }
   },
   "source": [
    "# VII. Questions?\n",
    "***\n"
   ]
  },
  {
   "cell_type": "markdown",
   "metadata": {
    "slideshow": {
     "slide_type": "slide"
    }
   },
   "source": [
    "## Torus Knot Mean Theorem\n",
    "\n"
   ]
  },
  {
   "cell_type": "markdown",
   "metadata": {
    "slideshow": {
     "slide_type": "subslide"
    }
   },
   "source": [
    "For a given $n,1$ torus knot, there is nice symmetry that we can capitalize on to find the mean for its distribution. \n",
    "\n",
    "Since each crossing in a torus knot shadow in not unique, we can count methodically. To get one component, you have $n$ crossings and you choose $1$ to do connect the middle to the outside. This is ${n \\choose 1}$. *Minus the case for $2$ components*, this is true up to ${n \\choose n}$ which gives $1$. In the case for $2$ components,<this is a claim> there is an alternative way than normal to end up with $2$ components: by smoothing all crossings so that the middle is not connected to the outside. \n",
    "\n",
    "The distribution for $1,2,...,n$ components is ${n \\choose 1},{n \\choose 2}+1,{n \\choose 3},...,{n \\choose n}$. This totals $2^n$ as it should because there are $n$ crossings and $2$ ways to deal with a crossing. We write this as the binomial expansion $\\sum_{k=1}^{n} {n \\choose k}$ leaving out the extra $1$ from the $2$ component case for now.\n",
    "\n",
    "To find the mean, we dot the distribution with the components and eventually divide by the total number of outcomes $2^n$. The dot product part is \n",
    "$$\\sum_{k=1}^{n} {n \\choose k} \\cdot \\sum_{k=1}^{n} k = \\sum_{k=1}^{n} k{n \\choose k}$$ \n",
    "We can use the binomial expansion to represent this nicely. Recall that $(x+y)^n=\\sum_{k=0}^{n} {n\\choose k}x^ky^{n-k}$. If we differentiate with respect to $x$ when $y=1$, we get $n(x+1)^{n-1}=\\sum_{k=0}^{n} k{n\\choose k}x^{k-1}$. Now let $x=1$. Then \n",
    "$$n2^{n-1}=\\sum_{k=1}^{n} k{n\\choose k}$$\n",
    "\n",
    "For the $2$ component case, we add $2$ to our distribution since the extra $1$ way to create $2$ components would be dotted with $2$: $n2^{n-1}+2$.\n",
    "\n",
    "So the mean for an $n,1$ torus knot is\n",
    "$$\\mu = 2^{1-n}+\\frac{n}{2}$$"
   ]
  },
  {
   "cell_type": "code",
   "execution_count": null,
   "metadata": {},
   "outputs": [],
   "source": []
  }
 ],
 "metadata": {
  "celltoolbar": "Slideshow",
  "kernelspec": {
   "display_name": "Python 3",
   "language": "python",
   "name": "python3"
  },
  "language_info": {
   "codemirror_mode": {
    "name": "ipython",
    "version": 3
   },
   "file_extension": ".py",
   "mimetype": "text/x-python",
   "name": "python",
   "nbconvert_exporter": "python",
   "pygments_lexer": "ipython3",
   "version": "3.6.4"
  },
  "livereveal": {
   "height": 96,
   "max-height": "100%",
   "scroll": true,
   "theme": "simple"
  }
 },
 "nbformat": 4,
 "nbformat_minor": 2
}
